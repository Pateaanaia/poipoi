{
 "cells": [
  {
   "cell_type": "code",
   "execution_count": 6,
   "id": "5cd94865",
   "metadata": {
    "scrolled": true
   },
   "outputs": [
    {
     "name": "stdout",
     "output_type": "stream",
     "text": [
      "Le dossier est vide.\n",
      "Aucun fichier CSV valide trouvé ou le dossier est vide.\n"
     ]
    }
   ],
   "source": [
    "import pandas as pd\n",
    "import os\n",
    "import shutil\n",
    "import chardet\n",
    "\n",
    "def detect_encoding(file_path):\n",
    "    with open(file_path, 'rb') as f:\n",
    "        result = chardet.detect(f.read(5000))  # Lire un échantillon plus grand pour améliorer la précision\n",
    "    return result['encoding']\n",
    "\n",
    "def read_csv_with_encoding(file_path):\n",
    "    encoding_attempts = ['utf-8', 'cp1252', detect_encoding(file_path)]\n",
    "    for encoding in encoding_attempts:\n",
    "        try:\n",
    "            df = pd.read_csv(file_path, encoding=encoding, sep=\";\", on_bad_lines='skip')\n",
    "            print(f\"Le fichier a été lu avec succès en utilisant l'encodage {encoding}\")\n",
    "            return df\n",
    "        except UnicodeDecodeError:\n",
    "            continue\n",
    "    raise ValueError(f\"Tous les encodages ont échoué pour le fichier {file_path}\")\n",
    "\n",
    "folder_path = '/home/patea/code/Pateaanania/historique_lit'\n",
    "processed_folder = '/home/patea/code/Pateaanania/processed'\n",
    "empty_files_folder = '/home/patea/code/Pateaanania/empty_files'\n",
    "\n",
    "os.makedirs(folder_path, exist_ok=True)\n",
    "os.makedirs(processed_folder, exist_ok=True)\n",
    "os.makedirs(empty_files_folder, exist_ok=True)\n",
    "\n",
    "dataframes = []\n",
    "\n",
    "if os.listdir(folder_path):\n",
    "    for file_name in os.listdir(folder_path):\n",
    "        file_path = os.path.join(folder_path, file_name)\n",
    "        if file_name.endswith('.csv') and os.stat(file_path).st_size > 0:\n",
    "            try:\n",
    "                df = read_csv_with_encoding(file_path)\n",
    "                if not df.empty:\n",
    "                    dataframes.append(df)\n",
    "                shutil.move(file_path, os.path.join(processed_folder, file_name))\n",
    "            except Exception as e:\n",
    "                print(f\"Erreur lors de la lecture du fichier {file_name}: {e}\")\n",
    "                shutil.move(file_path, os.path.join(empty_files_folder, file_name))\n",
    "else:\n",
    "    print(\"Le dossier est vide.\")\n",
    "\n",
    "if dataframes:\n",
    "    final_dataframe = pd.concat(dataframes, ignore_index=True)\n",
    "    output_parquet = 'resultat_concatenation_avec_date_heure.parquet'\n",
    "    final_dataframe.to_parquet(output_parquet, index=False)\n",
    "    print(f\"Le fichier Parquet a été créé avec succès : {output_parquet}\")\n",
    "else:\n",
    "    print(\"Aucun fichier CSV valide trouvé ou le dossier est vide.\")\n"
   ]
  },
  {
   "cell_type": "code",
   "execution_count": null,
   "id": "777f7057",
   "metadata": {},
   "outputs": [],
   "source": []
  }
 ],
 "metadata": {
  "kernelspec": {
   "display_name": "Python 3 (ipykernel)",
   "language": "python",
   "name": "python3"
  },
  "language_info": {
   "codemirror_mode": {
    "name": "ipython",
    "version": 3
   },
   "file_extension": ".py",
   "mimetype": "text/x-python",
   "name": "python",
   "nbconvert_exporter": "python",
   "pygments_lexer": "ipython3",
   "version": "3.10.6"
  },
  "toc": {
   "base_numbering": 1,
   "nav_menu": {},
   "number_sections": true,
   "sideBar": true,
   "skip_h1_title": false,
   "title_cell": "Table of Contents",
   "title_sidebar": "Contents",
   "toc_cell": false,
   "toc_position": {},
   "toc_section_display": true,
   "toc_window_display": false
  }
 },
 "nbformat": 4,
 "nbformat_minor": 5
}
