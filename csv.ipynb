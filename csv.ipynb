{
 "cells": [
  {
   "cell_type": "code",
   "execution_count": null,
   "id": "5cd94865",
   "metadata": {
    "scrolled": true
   },
   "outputs": [],
   "source": [
    "import pandas as pd\n",
    "import os\n",
    "import shutil\n",
    "\n",
    "# Définir les chemins pour les dossiers des fichiers sources, traités et vides\n",
    "folder_path = '/home/patea/code/Pateaanania/historique_lit'\n",
    "processed_folder = '/home/patea/code/Pateaanania/processed'\n",
    "empty_files_folder = '/home/patea/code/Pateaanania/empty_files'\n",
    "\n",
    "# Créer les dossiers s'ils n'existent pas\n",
    "if not os.path.exists(folder_path):\n",
    "    os.makedirs(folder_path)\n",
    "if not os.path.exists(processed_folder):\n",
    "    os.makedirs(processed_folder)\n",
    "if not os.path.exists(empty_files_folder):\n",
    "    os.makedirs(empty_files_folder)\n",
    "\n",
    "# Initialiser une liste pour stocker les DataFrames\n",
    "dataframes = []\n",
    "\n",
    "def detect_encoding(file_path):\n",
    "    import chardet\n",
    "    with open(file_path, 'rb') as f:\n",
    "        result = chardet.detect(f.read(1024))  # Limiter la lecture à un petit échantillon pour performance\n",
    "    return result['encoding']\n",
    "\n",
    "# Parcourir tous les fichiers CSV dans le dossier source\n",
    "if os.listdir(folder_path):\n",
    "    for file_name in os.listdir(folder_path):\n",
    "        if file_name.endswith('.csv'):\n",
    "            file_path = os.path.join(folder_path, file_name)\n",
    "            if os.stat(file_path).st_size > 0:\n",
    "                encoding = detect_encoding(file_path)  # Détecter l'encodage\n",
    "                try:\n",
    "                    # Lire le fichier CSV avec l'encodage détecté\n",
    "                    df = pd.read_csv(file_path, encoding=encoding, sep=\";\", on_bad_lines='skip')\n",
    "                    if not df.empty:\n",
    "                        dataframes.append(df)  # Ajouter le DataFrame à la liste s'il n'est pas vide\n",
    "                    shutil.move(file_path, os.path.join(processed_folder, file_name))  # Déplacer les fichiers traités\n",
    "                except Exception as e:\n",
    "                    print(f\"Erreur lors de la lecture du fichier {file_name} avec encodage {encoding}: {e}\")\n",
    "            else:\n",
    "                print(f\"Le fichier {file_name} est vide.\")\n",
    "                shutil.move(file_path, os.path.join(empty_files_folder, file_name))  # Déplacer les fichiers vides\n",
    "else:\n",
    "    print(\"Le dossier est vide.\")\n",
    "\n",
    "# Concaténer tous les DataFrames et créer un fichier Parquet\n",
    "if dataframes:\n",
    "    final_dataframe = pd.concat(dataframes, ignore_index=True)\n",
    "    output_parquet = 'resultat_concatenation_avec_date_heure.parquet'\n",
    "    final_dataframe.to_parquet(output_parquet, index=False)\n",
    "    print(f\"Le fichier Parquet a été créé avec succès : {output_parquet}\")\n",
    "else:\n",
    "    print(\"Aucun fichier CSV valide trouvé ou le dossier est vide.\")\n"
   ]
  },
  {
   "cell_type": "code",
   "execution_count": null,
   "id": "777f7057",
   "metadata": {},
   "outputs": [],
   "source": []
  }
 ],
 "metadata": {
  "kernelspec": {
   "display_name": "Python 3 (ipykernel)",
   "language": "python",
   "name": "python3"
  },
  "language_info": {
   "codemirror_mode": {
    "name": "ipython",
    "version": 3
   },
   "file_extension": ".py",
   "mimetype": "text/x-python",
   "name": "python",
   "nbconvert_exporter": "python",
   "pygments_lexer": "ipython3",
   "version": "3.10.6"
  },
  "toc": {
   "base_numbering": 1,
   "nav_menu": {},
   "number_sections": true,
   "sideBar": true,
   "skip_h1_title": false,
   "title_cell": "Table of Contents",
   "title_sidebar": "Contents",
   "toc_cell": false,
   "toc_position": {},
   "toc_section_display": true,
   "toc_window_display": false
  }
 },
 "nbformat": 4,
 "nbformat_minor": 5
}
