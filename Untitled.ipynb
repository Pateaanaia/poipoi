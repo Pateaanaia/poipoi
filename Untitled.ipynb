{
 "cells": [
  {
   "cell_type": "code",
   "execution_count": 4,
   "id": "5a5068c4",
   "metadata": {},
   "outputs": [
    {
     "ename": "NameError",
     "evalue": "name 'df' is not defined",
     "output_type": "error",
     "traceback": [
      "\u001b[0;31m---------------------------------------------------------------------------\u001b[0m",
      "\u001b[0;31mNameError\u001b[0m                                 Traceback (most recent call last)",
      "Cell \u001b[0;32mIn [4], line 8\u001b[0m\n\u001b[1;32m      5\u001b[0m file_path \u001b[38;5;241m=\u001b[39m \u001b[38;5;124m'\u001b[39m\u001b[38;5;124m/home/patea/code/Pateaanania/poipoi/dailypatient.csv\u001b[39m\u001b[38;5;124m'\u001b[39m\n\u001b[1;32m      7\u001b[0m \u001b[38;5;66;03m# Filtrer les entrées valides (exclure \"INDISPONIBLE\")\u001b[39;00m\n\u001b[0;32m----> 8\u001b[0m df \u001b[38;5;241m=\u001b[39m \u001b[43mdf\u001b[49m[df[\u001b[38;5;124m'\u001b[39m\u001b[38;5;124mPATIENT\u001b[39m\u001b[38;5;124m'\u001b[39m] \u001b[38;5;241m!=\u001b[39m \u001b[38;5;124m'\u001b[39m\u001b[38;5;124mINDISPONIBLE\u001b[39m\u001b[38;5;124m'\u001b[39m]\n\u001b[1;32m     10\u001b[0m \u001b[38;5;66;03m# Convertir la colonne DATE en format datetime pour manipulation\u001b[39;00m\n\u001b[1;32m     11\u001b[0m df[\u001b[38;5;124m'\u001b[39m\u001b[38;5;124mDATE\u001b[39m\u001b[38;5;124m'\u001b[39m] \u001b[38;5;241m=\u001b[39m pd\u001b[38;5;241m.\u001b[39mto_datetime(df[\u001b[38;5;124m'\u001b[39m\u001b[38;5;124mDATE\u001b[39m\u001b[38;5;124m'\u001b[39m])\n",
      "\u001b[0;31mNameError\u001b[0m: name 'df' is not defined"
     ]
    }
   ],
   "source": [
    "import pandas as pd\n",
    "import matplotlib.pyplot as plt\n",
    "\n",
    "# Charger le fichier CSV (à adapter selon l'emplacement du fichier)\n",
    "file_path = '/home/patea/code/Pateaanania/poipoi/dailypatient.csv'\n",
    "\n",
    "# Filtrer les entrées valides (exclure \"INDISPONIBLE\")\n",
    "df = df[df['PATIENT'] != 'INDISPONIBLE']\n",
    "\n",
    "# Convertir la colonne DATE en format datetime pour manipulation\n",
    "df['DATE'] = pd.to_datetime(df['DATE'])\n",
    "\n",
    "# Trier les données par patient et par date\n",
    "df = df.sort_values(by=['PATIENT', 'DATE'])\n",
    "\n",
    "# Fonction pour déterminer les périodes d'hospitalisation et de sortie\n",
    "def determine_hospitalization_periods(df):\n",
    "    hospitalizations = []\n",
    "    for patient in df['PATIENT'].unique():\n",
    "        patient_data = df[df['PATIENT'] == patient]\n",
    "        periods = []\n",
    "        entry_date = None\n",
    "        prev_date = None\n",
    "        for i, row in patient_data.iterrows():\n",
    "            if entry_date is None:\n",
    "                entry_date = row['DATE']  # Première apparition (entrée)\n",
    "            if prev_date is not None and (row['DATE'] - prev_date).days > 1:\n",
    "                periods.append((patient, entry_date, prev_date))  # Sortie après une absence\n",
    "                entry_date = row['DATE']  # Nouvelle hospitalisation\n",
    "            prev_date = row['DATE']\n",
    "        if entry_date is not None:\n",
    "            periods.append((patient, entry_date, prev_date))  # Ajouter la dernière période\n",
    "        hospitalizations.extend(periods)\n",
    "    return hospitalizations\n",
    "\n",
    "# Déterminer les périodes d'hospitalisation pour chaque patient\n",
    "hospitalizations = determine_hospitalization_periods(df)\n",
    "\n",
    "# Convertir les résultats en DataFrame\n",
    "result_df = pd.DataFrame(hospitalizations, columns=['PATIENT', 'ENTREE', 'SORTIE'])\n",
    "\n",
    "# Calculer la durée d'hospitalisation (en jours)\n",
    "result_df['DUREE'] = (result_df['SORTIE'] - result_df['ENTREE']).dt.days\n",
    "\n",
    "# Afficher un aperçu des durées d'hospitalisation\n",
    "print(result_df.head())\n",
    "\n",
    "# Visualiser les durées d'hospitalisation pour chaque patient\n",
    "plt.figure(figsize=(10, 6))\n",
    "plt.bar(result_df['PATIENT'], result_df['DUREE'], color='skyblue')\n",
    "plt.xlabel('Patient')\n",
    "plt.ylabel('Durée d\\'hospitalisation (jours)')\n",
    "plt.title('Durée d\\'hospitalisation par patient')\n",
    "plt.xticks(rotation=90)  # Rotation des étiquettes pour lisibilité\n",
    "plt.tight_layout()\n",
    "plt.show()\n"
   ]
  },
  {
   "cell_type": "code",
   "execution_count": null,
   "id": "92851fa4",
   "metadata": {},
   "outputs": [],
   "source": []
  },
  {
   "cell_type": "code",
   "execution_count": null,
   "id": "ca99761c",
   "metadata": {},
   "outputs": [],
   "source": []
  }
 ],
 "metadata": {
  "kernelspec": {
   "display_name": "Python 3 (ipykernel)",
   "language": "python",
   "name": "python3"
  },
  "language_info": {
   "codemirror_mode": {
    "name": "ipython",
    "version": 3
   },
   "file_extension": ".py",
   "mimetype": "text/x-python",
   "name": "python",
   "nbconvert_exporter": "python",
   "pygments_lexer": "ipython3",
   "version": "3.10.6"
  },
  "toc": {
   "base_numbering": 1,
   "nav_menu": {},
   "number_sections": true,
   "sideBar": true,
   "skip_h1_title": false,
   "title_cell": "Table of Contents",
   "title_sidebar": "Contents",
   "toc_cell": false,
   "toc_position": {},
   "toc_section_display": true,
   "toc_window_display": false
  }
 },
 "nbformat": 4,
 "nbformat_minor": 5
}
