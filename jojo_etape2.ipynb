{
 "cells": [
  {
   "cell_type": "code",
   "execution_count": 1,
   "id": "fdadb201",
   "metadata": {},
   "outputs": [
    {
     "name": "stderr",
     "output_type": "stream",
     "text": [
      "/tmp/ipykernel_243096/1559623669.py:25: FutureWarning: Inferring datetime64[ns] from data containing strings is deprecated and will be removed in a future version. To retain the old behavior explicitly pass Series(data, dtype=datetime64[ns])\n",
      "  for i, row in patient_data.iterrows():\n"
     ]
    },
    {
     "name": "stdout",
     "output_type": "stream",
     "text": [
      "Analyse terminée. Le fichier 'hospitalizations_periods.csv' a été créé.\n"
     ]
    }
   ],
   "source": [
    "import pandas as pd\n",
    "import datetime\n",
    "\n",
    "# Charger le fichier CSV (à adapter selon l'emplacement du fichier)\n",
    "file_path = '/home/patea/code/Pateaanania/poipoi/dailypatient.csv'\n",
    "df = pd.read_csv(file_path, sep=';')\n",
    "\n",
    "# Filtrer les entrées valides (exclure \"INDISPONIBLE\")\n",
    "df = df[df['PATIENT'] != 'INDISPONIBLE']\n",
    "\n",
    "# Convertir la colonne DATE en format datetime pour manipulation\n",
    "df['DATE'] = pd.to_datetime(df['DATE'])\n",
    "\n",
    "# Trier les données par patient et par date\n",
    "df = df.sort_values(by=['PATIENT', 'DATE'])\n",
    "\n",
    "# Fonction pour déterminer les périodes d'hospitalisation et de sortie\n",
    "def determine_hospitalization_periods(df):\n",
    "    hospitalizations = []\n",
    "    for patient in df['PATIENT'].unique():\n",
    "        patient_data = df[df['PATIENT'] == patient]\n",
    "        periods = []\n",
    "        entry_date = None\n",
    "        prev_date = None\n",
    "        for i, row in patient_data.iterrows():\n",
    "            if entry_date is None:\n",
    "                entry_date = row['DATE']  # Première apparition (entrée)\n",
    "            if prev_date is not None and (row['DATE'] - prev_date).days > 1:\n",
    "                periods.append((patient, entry_date, prev_date))  # Sortie après une absence\n",
    "                entry_date = row['DATE']  # Nouvelle hospitalisation\n",
    "            prev_date = row['DATE']\n",
    "        if entry_date is not None:\n",
    "            periods.append((patient, entry_date, prev_date))  # Ajouter la dernière période\n",
    "        hospitalizations.extend(periods)\n",
    "    return hospitalizations\n",
    "\n",
    "# Déterminer les périodes d'hospitalisation pour chaque patient\n",
    "hospitalizations = determine_hospitalization_periods(df)\n",
    "\n",
    "# Convertir les résultats en DataFrame\n",
    "result_df = pd.DataFrame(hospitalizations, columns=['PATIENT', 'ENTREE', 'SORTIE'])\n",
    "\n",
    "# Exporter les résultats dans un fichier CSV\n",
    "result_df.to_csv('hospitalizations_periods.csv', index=False, sep=';')\n",
    "\n",
    "print(\"Analyse terminée. Le fichier 'hospitalizations_periods.csv' a été créé.\")\n"
   ]
  },
  {
   "cell_type": "code",
   "execution_count": null,
   "id": "0d8cfbc0",
   "metadata": {},
   "outputs": [],
   "source": []
  }
 ],
 "metadata": {
  "kernelspec": {
   "display_name": "Python 3 (ipykernel)",
   "language": "python",
   "name": "python3"
  },
  "language_info": {
   "codemirror_mode": {
    "name": "ipython",
    "version": 3
   },
   "file_extension": ".py",
   "mimetype": "text/x-python",
   "name": "python",
   "nbconvert_exporter": "python",
   "pygments_lexer": "ipython3",
   "version": "3.10.6"
  },
  "toc": {
   "base_numbering": 1,
   "nav_menu": {},
   "number_sections": true,
   "sideBar": true,
   "skip_h1_title": false,
   "title_cell": "Table of Contents",
   "title_sidebar": "Contents",
   "toc_cell": false,
   "toc_position": {},
   "toc_section_display": true,
   "toc_window_display": false
  }
 },
 "nbformat": 4,
 "nbformat_minor": 5
}
