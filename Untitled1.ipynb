{
 "cells": [
  {
   "cell_type": "code",
   "execution_count": 1,
   "id": "1877f614",
   "metadata": {},
   "outputs": [
    {
     "name": "stdout",
     "output_type": "stream",
     "text": [
      "   UNITE  CHAMBRE    LIT       PATIENT                  REMARQUE Date Heure  \\\n",
      "0    ORL  1017     1      INDISPONIBLE  TRAVAUX                   NaT  None   \n",
      "1    ORL  1017     2      INDISPONIBLE  TRAVAUX                   NaT  None   \n",
      "2    ABI  2031     2      INDISPONIBLE  SSE                       NaT  None   \n",
      "3    ABI  2029     2      INDISPONIBLE  SSE - NON UTILISABLE      NaT  None   \n",
      "4    DIA  3067     SSE2   INDISPONIBLE  SSE OUVERTURE DMD DDG     NaT  None   \n",
      "..   ...      ...    ...           ...                       ...  ...   ...   \n",
      "95   TOK  15       1           1011234                      None  NaT  None   \n",
      "96   TOK  15       2          91005698                      None  NaT  None   \n",
      "97   TOK  15       3          92023495                      None  NaT  None   \n",
      "98   TOK  15       4          91009088                      None  NaT  None   \n",
      "99   TOK  15       5          99000648                      None  NaT  None   \n",
      "\n",
      "   DateHeure Localisation  LIT_DISPONIBLE  LIT_INDISPONIBLE  EMPLACEMENT_VIDE  \\\n",
      "0        NaT         None               0                 0                 0   \n",
      "1        NaT         None               0                 0                 0   \n",
      "2        NaT         None               0                 0                 0   \n",
      "3        NaT         None               0                 0                 0   \n",
      "4        NaT         None               0                 0                 0   \n",
      "..       ...          ...             ...               ...               ...   \n",
      "95       NaT         None               0                 0                 0   \n",
      "96       NaT         None               0                 0                 0   \n",
      "97       NaT         None               0                 0                 0   \n",
      "98       NaT         None               0                 0                 0   \n",
      "99       NaT         None               0                 0                 0   \n",
      "\n",
      "    PATIENT_UNKNOWN  \n",
      "0                 0  \n",
      "1                 0  \n",
      "2                 0  \n",
      "3                 0  \n",
      "4                 0  \n",
      "..              ...  \n",
      "95                0  \n",
      "96                0  \n",
      "97                0  \n",
      "98                0  \n",
      "99                0  \n",
      "\n",
      "[100 rows x 13 columns]\n"
     ]
    }
   ],
   "source": [
    "import pandas as pd\n",
    "\n",
    "# Charger le fichier Parquet\n",
    "file_path = '/home/patea/code/Pateaanania/poipoi/resultat_concatenation_avec_date_heure.parquet'\n",
    "df = pd.read_parquet(file_path)\n",
    "\n",
    "# Afficher les 100 premières lignes\n",
    "print(df.head(100))\n"
   ]
  },
  {
   "cell_type": "code",
   "execution_count": null,
   "id": "b30654ae",
   "metadata": {},
   "outputs": [],
   "source": []
  }
 ],
 "metadata": {
  "kernelspec": {
   "display_name": "Python 3 (ipykernel)",
   "language": "python",
   "name": "python3"
  },
  "language_info": {
   "codemirror_mode": {
    "name": "ipython",
    "version": 3
   },
   "file_extension": ".py",
   "mimetype": "text/x-python",
   "name": "python",
   "nbconvert_exporter": "python",
   "pygments_lexer": "ipython3",
   "version": "3.10.6"
  },
  "toc": {
   "base_numbering": 1,
   "nav_menu": {},
   "number_sections": true,
   "sideBar": true,
   "skip_h1_title": false,
   "title_cell": "Table of Contents",
   "title_sidebar": "Contents",
   "toc_cell": false,
   "toc_position": {},
   "toc_section_display": true,
   "toc_window_display": false
  }
 },
 "nbformat": 4,
 "nbformat_minor": 5
}
