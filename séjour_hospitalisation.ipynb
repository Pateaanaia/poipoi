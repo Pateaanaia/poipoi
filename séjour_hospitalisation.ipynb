{
 "cells": [
  {
   "cell_type": "code",
   "execution_count": 1,
   "id": "143b33ec",
   "metadata": {},
   "outputs": [
    {
     "name": "stdout",
     "output_type": "stream",
     "text": [
      "    PATIENT  New_Sejour Localisation         Date_Entree         Date_Sortie\n",
      "0  10000153           0   CHA-3046-1 2024-01-16 07:00:00 2024-01-16 13:00:00\n",
      "1  10000153           1   CHA-3046-1 2024-01-17 07:00:00 2024-01-17 13:00:00\n",
      "2  10000153           2   CHA-3046-1 2024-01-18 07:00:00 2024-01-18 13:00:00\n",
      "3  10000153           3   CHA-3046-1 2024-01-19 07:00:00 2024-01-19 13:00:00\n",
      "4  10000153           4   CHA-3046-1 2024-01-20 07:00:00 2024-01-20 13:00:00\n",
      "5  10000153           5   CHA-3046-1 2024-01-21 07:00:00 2024-01-21 13:00:00\n",
      "6  10000179           0    HUR-012-1 2024-01-27 13:30:00 2024-01-28 15:00:00\n",
      "7  10000179           0   NEU-2052-2 2024-01-28 15:30:00 2024-01-29 12:30:00\n",
      "8   1000022           0     REA-D4-1 2024-01-16 07:00:00 2024-01-16 13:00:00\n",
      "9   1000022           1     REA-D4-1 2024-01-17 07:00:00 2024-01-17 13:00:00\n"
     ]
    }
   ],
   "source": [
    "# Importer la bibliothèque pandas\n",
    "import pandas as pd\n",
    "\n",
    "# Charger le fichier Parquet\n",
    "file_path = '/home/patea/code/Pateaanania/poipoi/resultat_concatenation_avec_date_heure.parquet'\n",
    "df = pd.read_parquet(file_path)\n",
    "\n",
    "# Filtrer pour garder uniquement les lignes où la colonne PATIENT contient des chiffres et exclure '99999999'\n",
    "df_filtered = df[df['PATIENT'].apply(lambda x: str(x).isdigit())]\n",
    "df_filtered = df_filtered[df_filtered['PATIENT'] != '99999999']\n",
    "\n",
    "# Supprimer les colonnes inutiles, en conservant 'Localisation'\n",
    "colonnes_a_supprimer = ['CHAMBRE', 'LIT', 'Date', 'Heure', 'LIT_DISPONIBLE', 'LIT_INDISPONIBLE', \n",
    "                        'EMPLACEMENT_VIDE', 'PATIENT_UNKNOWN']  # Localisation n'est pas dans cette liste\n",
    "df_filtered = df_filtered.drop(columns=[col for col in colonnes_a_supprimer if col in df_filtered.columns])\n",
    "\n",
    "# Renommer la colonne 'DateHeure' pour plus de clarté\n",
    "df_filtered.rename(columns={'DateHeure': 'date'}, inplace=True)\n",
    "\n",
    "# Assurer que la colonne 'date' est bien au format datetime\n",
    "df_filtered['date'] = pd.to_datetime(df_filtered['date'], errors='coerce')\n",
    "\n",
    "# Trier les données par patient et date\n",
    "df_filtered = df_filtered.sort_values(by=['PATIENT', 'date'])\n",
    "\n",
    "# Calculer l'écart de temps entre les enregistrements consécutifs pour chaque patient\n",
    "df_filtered['Time_Diff'] = df_filtered.groupby('PATIENT')['date'].diff()\n",
    "\n",
    "# Définir un seuil d'interruption (par exemple, 1 heure) pour identifier les séjours distincts\n",
    "seuil_interruption = pd.Timedelta(hours=1)\n",
    "df_filtered['New_Sejour'] = (df_filtered['Time_Diff'] > seuil_interruption).astype(int)\n",
    "\n",
    "# Marquer le premier enregistrement comme début d'un séjour\n",
    "df_filtered['New_Sejour'] = df_filtered.groupby('PATIENT')['New_Sejour'].cumsum()\n",
    "\n",
    "# Regrouper pour définir les séjours distincts : obtenir la date d'entrée, de sortie et la localisation pour chaque séjour\n",
    "sejours = df_filtered.groupby(['PATIENT', 'New_Sejour', 'Localisation']).agg(\n",
    "    Date_Entree=('date', 'min'),\n",
    "    Date_Sortie=('date', 'max')\n",
    ").reset_index()\n",
    "\n",
    "# Afficher les résultats des séjours distincts\n",
    "print(sejours.head(10))\n"
   ]
  },
  {
   "cell_type": "code",
   "execution_count": 2,
   "id": "293e513c",
   "metadata": {},
   "outputs": [],
   "source": [
    "sejours.to_csv('sejours_patients.csv', index=False)\n"
   ]
  },
  {
   "cell_type": "code",
   "execution_count": null,
   "id": "2befa1f6",
   "metadata": {},
   "outputs": [],
   "source": []
  }
 ],
 "metadata": {
  "kernelspec": {
   "display_name": "Python 3 (ipykernel)",
   "language": "python",
   "name": "python3"
  },
  "language_info": {
   "codemirror_mode": {
    "name": "ipython",
    "version": 3
   },
   "file_extension": ".py",
   "mimetype": "text/x-python",
   "name": "python",
   "nbconvert_exporter": "python",
   "pygments_lexer": "ipython3",
   "version": "3.10.6"
  },
  "toc": {
   "base_numbering": 1,
   "nav_menu": {},
   "number_sections": true,
   "sideBar": true,
   "skip_h1_title": false,
   "title_cell": "Table of Contents",
   "title_sidebar": "Contents",
   "toc_cell": false,
   "toc_position": {},
   "toc_section_display": true,
   "toc_window_display": false
  }
 },
 "nbformat": 4,
 "nbformat_minor": 5
}
